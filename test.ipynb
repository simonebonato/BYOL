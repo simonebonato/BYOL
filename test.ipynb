{
 "cells": [
  {
   "cell_type": "code",
   "execution_count": null,
   "metadata": {},
   "outputs": [],
   "source": [
    "%load_ext autoreload\n",
    "%autoreload 2\n",
    "\n",
    "import sys\n",
    "sys.path.append(\"/cluster/group/karies_2022/Simone/karies/karies-models/AAA_BYOL_test/BYOL/byol_pretrain\")\n",
    "\n",
    "from pathlib import Path\n",
    "from byol_pretrain.BYOL import BYOL\n",
    "from byol_pretrain.toy_model import Model\n",
    "from byol_pretrain.utils import get_loaders_CIFAR10, get_loaders_STL10"
   ]
  },
  {
   "cell_type": "markdown",
   "metadata": {},
   "source": [
    "# Toy model"
   ]
  },
  {
   "cell_type": "code",
   "execution_count": null,
   "metadata": {},
   "outputs": [],
   "source": [
    "model = Model(3).to(\"cuda\")\n",
    "\n",
    "batch_size = 50\n",
    "pretrain_epochs = 100\n",
    "test = 100 # else None to use all the data\n",
    "log_dir = \"./logs/proj_test/cifar10/DELETE/\"\n",
    "device=\"cuda\"\n",
    "lin_evaluation_frequency=20\n",
    "\n",
    "\n",
    "loader, val_loader = get_loaders_CIFAR10(batch_size, test=test)\n",
    "img_size = (32, 32)\n",
    "\n",
    "# loader, val_loader = get_loaders_STL10(batch_size, test=test)\n",
    "# img_size = (96, 96)\n",
    "\n",
    "byol = BYOL(\n",
    "    model,\n",
    "    loader,\n",
    "    val_loader,\n",
    "    pretrain_epochs,\n",
    "    log_dir,\n",
    "    input_dims=3,\n",
    "    img_dims=img_size,\n",
    "    hidden_features=4096,\n",
    "    device=device,\n",
    "    lin_evaluation_frequency=lin_evaluation_frequency,\n",
    ")\n",
    "\n",
    "byol.pretrain()"
   ]
  },
  {
   "cell_type": "markdown",
   "metadata": {},
   "source": [
    "## MaskRCNN"
   ]
  },
  {
   "cell_type": "code",
   "execution_count": null,
   "metadata": {},
   "outputs": [],
   "source": [
    "from karies.models import MaskRCNN\n",
    "from karies.config import MaskRCNNConfig, ModelConfig, Task, ModelTypes\n",
    "from byol_pretrain.BYOL_MaskRCNN import BYOL_MaskRCNN, MaskRCNNModelWrapper\n",
    "\n",
    "base_config: ModelConfig = {\n",
    "    \"name\": \"PRETRAIN-SIMONE-80epoch-batch6\",\n",
    "    \"task\": Task.training,\n",
    "    \"optimizer\": \"adam\",\n",
    "    \"learning_rate\": 0.0001,\n",
    "    \"weight_decay\": 0.0001,\n",
    "    \"batch_size\": 8,\n",
    "    \"num_workers\": 0,\n",
    "    \"device\": \"cuda\",\n",
    "    \"path_model\": \"/cluster/group/karies_2022/Simone/karies/karies-models/AAA_BYOL_test/BYOL/saved_pretrained_models/maskrcnn-weekend-test-batch-6/\",\n",
    "    \"load_model_name\": \"pretrain_80_epochs.pth\",\n",
    "    \"num_epochs\": 100,\n",
    "    \"image_shape\": [768, 1024],\n",
    "    \"dataset\": \"dataset_test\",\n",
    "    \"labels_json\": \"labels_caries.json\",\n",
    "    \"histogram_eq\": False,\n",
    "    \"visualization_frequency\": 1,\n",
    "    \"augmentations\": [],\n",
    "    'fix_random_seed':42\n",
    "}\n",
    "\n",
    "config: MaskRCNNConfig = {\n",
    "    **base_config,\n",
    "    \"model_type\": ModelTypes.MaskRCNN,\n",
    "    \"classes\": 5,\n",
    "    \"iou_threshold\": 0.1,\n",
    "    \"confidence_threshold\": 0.1,\n",
    "    \"model_args\": {},\n",
    "    \"loss_weights\": [1.0, 1.0, 1.0, 1.0, 1.0],\n",
    "}\n",
    "\n",
    "maskrcnn = MaskRCNN(config, load=False)\n",
    "wrap = MaskRCNNModelWrapper(\n",
    "    maskrcnn.model.transform,\n",
    "    maskrcnn.model.backbone,\n",
    ")\n",
    "\n",
    "loader, val_loader = maskrcnn.get_data_loaders()"
   ]
  },
  {
   "cell_type": "code",
   "execution_count": null,
   "metadata": {},
   "outputs": [],
   "source": [
    "pretrain_epochs = 100\n",
    "log_dir = Path(\"./logs/LOAD-DELETE\")\n",
    "device=\"cuda\"\n",
    "lin_evaluation_frequency=None\n",
    "\n",
    "byol = BYOL_MaskRCNN(\n",
    "    wrap,\n",
    "    loader,\n",
    "    val_loader,\n",
    "    pretrain_epochs,\n",
    "    log_dir,\n",
    "    input_dims=3,\n",
    "    img_dims=(700, 700),\n",
    "    hidden_features=2048,\n",
    "    device=device,\n",
    "    lin_evaluation_frequency=lin_evaluation_frequency,\n",
    "    mixed_precision_enabled=True,\n",
    "\n",
    "    original_maskrcnn=maskrcnn,\n",
    "    save_weights_every=5\n",
    ")\n",
    "\n",
    "\n",
    "byol.pretrain()"
   ]
  }
 ],
 "metadata": {
  "kernelspec": {
   "display_name": "karies_models",
   "language": "python",
   "name": "python3"
  },
  "language_info": {
   "codemirror_mode": {
    "name": "ipython",
    "version": 3
   },
   "file_extension": ".py",
   "mimetype": "text/x-python",
   "name": "python",
   "nbconvert_exporter": "python",
   "pygments_lexer": "ipython3",
   "version": "3.10.13"
  }
 },
 "nbformat": 4,
 "nbformat_minor": 2
}
