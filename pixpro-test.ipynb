{
 "cells": [
  {
   "cell_type": "code",
   "execution_count": null,
   "metadata": {},
   "outputs": [],
   "source": [
    "%load_ext autoreload\n",
    "%autoreload 2\n",
    "\n",
    "import torch\n",
    "from tqdm import tqdm\n",
    "from pixel_level_contrastive_learning import PixelCL\n",
    "from karies.models import MaskRCNN, U_Net_Model\n",
    "from pixpro_utils import MaskRCNNModelWrapper, UNetModelWrapper\n",
    "from torch.cuda.amp import GradScaler\n",
    "from pixpro_utils import PretrainingDataset\n",
    "from karies.config import DatasetPartition, ModelTypes\n",
    "import sys\n",
    "\n",
    "sys.path.append(\"/cluster/group/karies_2022/Simone/karies/karies-models/\")\n",
    "from configs.MaskRCNN.default_model_setting_config import model_config as config_maskrcnn\n",
    "from configs.UNet.baseline_unet_config import model_config as config_unet"
   ]
  },
  {
   "cell_type": "markdown",
   "metadata": {},
   "source": [
    "## MaskRCNN"
   ]
  },
  {
   "cell_type": "code",
   "execution_count": null,
   "metadata": {},
   "outputs": [],
   "source": [
    "config_maskrcnn[\"name\"] = \"PIXPRO-TEST-DELETE\"\n",
    "config_maskrcnn[\"batch_size\"] = 10\n",
    "config_maskrcnn[\"device\"] = \"cuda\"\n",
    "config_maskrcnn[\"dataset\"] = \"dataset_4k\"\n",
    "config_maskrcnn[\"augmentations\"] = []\n",
    "config_maskrcnn[\"fix_random_seed\"] = 42\n",
    "config_maskrcnn[\"image_shape\"] = [768, 1024]\n",
    "\n",
    "crop_size = 56\n",
    "mixed_precision = True\n",
    "\n",
    "m = MaskRCNN(config_maskrcnn, load=False)\n",
    "\n",
    "wrap = MaskRCNNModelWrapper(\n",
    "    m.model.transform,\n",
    "    m.model.backbone,\n",
    ")\n",
    "\n",
    "dl = PretrainingDataset(\n",
    "    config_maskrcnn,\n",
    "    DatasetPartition.train,\n",
    "    crop_size=crop_size,\n",
    ").get_data_loaders()"
   ]
  },
  {
   "cell_type": "code",
   "execution_count": null,
   "metadata": {},
   "outputs": [],
   "source": [
    "learner = PixelCL(\n",
    "    wrap,\n",
    "    image_size = (crop_size, crop_size),\n",
    "    hidden_layer_pixel = 'backbone.body.layer4',  # leads to output of 8x8 feature map for pixel-level learning\n",
    "    hidden_layer_instance = -1,     # leads to output for instance-level learning\n",
    "    projection_size = 256,          # size of projection output, 256 was used in the paper\n",
    "    projection_hidden_size = 2048,  # size of projection hidden dimension, paper used 2048\n",
    "    moving_average_decay = 0.99,    # exponential moving average decay of target encoder\n",
    "    ppm_num_layers = 1,             # number of layers for transform function in the pixel propagation module, 1 was optimal\n",
    "    ppm_gamma = 2,                  # sharpness of the similarity in the pixel propagation module, already at optimal value of 2\n",
    "    distance_thres = 0.7,           # ideal value is 0.7, as indicated in the paper, which makes the assumption of each feature map's pixel diagonal distance to be 1 (still unclear)\n",
    "    similarity_temperature = 0.3,   # temperature for the cosine similarity for the pixel contrastive loss\n",
    "    alpha = 1.,                      # weight of the pixel propagation loss (pixpro) vs pixel CL loss\n",
    "    use_pixpro = True,               # do pixel pro instead of pixel contrast loss, defaults to pixpro, since it is the best one\n",
    "    cutout_ratio_range = (0.6, 0.8)  # a random ratio is selected from this range for the random cutout\n",
    ").cuda()"
   ]
  },
  {
   "cell_type": "code",
   "execution_count": null,
   "metadata": {},
   "outputs": [],
   "source": [
    "scaler = GradScaler(enabled=mixed_precision)\n",
    "opt = torch.optim.Adam(learner.parameters(), lr=1e-4)\n",
    "\n",
    "torch.cuda.empty_cache()\n",
    "\n",
    "def sample_batch_images():\n",
    "    return torch.randn(8, 3, crop_size, crop_size).cuda()\n",
    "\n",
    "for _ in tqdm(range(50)):\n",
    "    images = sample_batch_images()\n",
    "    with torch.autocast(device_type=\"cuda\", dtype=torch.float16, enabled=mixed_precision):\n",
    "        loss = learner(images) # if positive pixel pairs is equal to zero, the loss is equal to the instance level loss\n",
    "\n",
    "    opt.zero_grad()\n",
    "    scaler.scale(loss).backward()\n",
    "    scaler.step(opt)\n",
    "    scaler.update()\n",
    "    learner.update_moving_average() # update moving average of target encoder\n"
   ]
  },
  {
   "cell_type": "markdown",
   "metadata": {},
   "source": [
    "## UNet"
   ]
  },
  {
   "cell_type": "code",
   "execution_count": null,
   "metadata": {},
   "outputs": [],
   "source": [
    "config_unet[\"name\"] = \"PIXPRO-TEST-DELETE\"\n",
    "config_unet[\"batch_size\"] = 10\n",
    "config_unet[\"device\"] = \"cuda\"\n",
    "config_unet[\"dataset\"] = \"dataset_4k\"\n",
    "config_unet[\"augmentations\"] = []\n",
    "config_unet[\"fix_random_seed\"] = 42\n",
    "config_unet[\"image_shape\"] = [768, 1024]\n",
    "config_unet[\"unet_type\"] = ModelTypes.U_Net\n",
    "\n",
    "crop_size = 112\n",
    "mixed_precision = False\n",
    "\n",
    "\n",
    "unet = U_Net_Model(config_unet, load=False)\n",
    "\n",
    "unet_wrap = UNetModelWrapper(\n",
    "    unet.model.encoder\n",
    ")\n",
    "\n",
    "dl = PretrainingDataset(\n",
    "    config_unet,\n",
    "    DatasetPartition.train,\n",
    "    crop_size=crop_size,\n",
    "    only_seg_masks=True\n",
    ").get_data_loaders()"
   ]
  },
  {
   "cell_type": "code",
   "execution_count": null,
   "metadata": {},
   "outputs": [],
   "source": [
    "learner = PixelCL(\n",
    "    unet_wrap,\n",
    "    image_size = (crop_size, crop_size),\n",
    "    hidden_layer_pixel = 'encoder.layer4',  # leads to output of 8x8 feature map for pixel-level learning\n",
    "    hidden_layer_instance = -1,     # leads to output for instance-level learning\n",
    "    projection_size = 256,          # size of projection output, 256 was used in the paper\n",
    "    projection_hidden_size = 2048,  # size of projection hidden dimension, paper used 2048\n",
    "    moving_average_decay = 0.99,    # exponential moving average decay of target encoder\n",
    "    ppm_num_layers = 1,             # number of layers for transform function in the pixel propagation module, 1 was optimal\n",
    "    ppm_gamma = 2,                  # sharpness of the similarity in the pixel propagation module, already at optimal value of 2\n",
    "    distance_thres = 0.7,           # ideal value is 0.7, as indicated in the paper, which makes the assumption of each feature map's pixel diagonal distance to be 1 (still unclear)\n",
    "    similarity_temperature = 0.3,   # temperature for the cosine similarity for the pixel contrastive loss\n",
    "    alpha = 1.,                      # weight of the pixel propagation loss (pixpro) vs pixel CL loss\n",
    "    use_pixpro = True,               # do pixel pro instead of pixel contrast loss, defaults to pixpro, since it is the best one\n",
    "    cutout_ratio_range = (0.6, 0.8)  # a random ratio is selected from this range for the random cutout\n",
    ").cuda()"
   ]
  },
  {
   "cell_type": "code",
   "execution_count": null,
   "metadata": {},
   "outputs": [],
   "source": [
    "scaler = GradScaler(enabled=mixed_precision)\n",
    "opt = torch.optim.Adam(learner.parameters(), lr=1e-4)\n",
    "\n",
    "torch.cuda.empty_cache()\n",
    "\n",
    "def sample_batch_images():\n",
    "    return torch.randn(100, 3, crop_size, crop_size).cuda()\n",
    "\n",
    "for _ in tqdm(range(50)):\n",
    "    images = sample_batch_images()\n",
    "    with torch.autocast(device_type=\"cuda\", dtype=torch.float16, enabled=mixed_precision):\n",
    "        loss = learner(images) # if positive pixel pairs is equal to zero, the loss is equal to the instance level loss\n",
    "\n",
    "    opt.zero_grad()\n",
    "    scaler.scale(loss).backward()\n",
    "    scaler.step(opt)\n",
    "    scaler.update()\n",
    "    learner.update_moving_average() # update moving average of target encoder\n"
   ]
  }
 ],
 "metadata": {
  "kernelspec": {
   "display_name": "karies_models",
   "language": "python",
   "name": "python3"
  },
  "language_info": {
   "codemirror_mode": {
    "name": "ipython",
    "version": 3
   },
   "file_extension": ".py",
   "mimetype": "text/x-python",
   "name": "python",
   "nbconvert_exporter": "python",
   "pygments_lexer": "ipython3",
   "version": "3.10.13"
  }
 },
 "nbformat": 4,
 "nbformat_minor": 2
}
