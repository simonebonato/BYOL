{
 "cells": [
  {
   "cell_type": "code",
   "execution_count": 1,
   "metadata": {},
   "outputs": [
    {
     "name": "stderr",
     "output_type": "stream",
     "text": [
      "/home2/simone/.conda/envs/karies_models/lib/python3.10/site-packages/tqdm/auto.py:21: TqdmWarning: IProgress not found. Please update jupyter and ipywidgets. See https://ipywidgets.readthedocs.io/en/stable/user_install.html\n",
      "  from .autonotebook import tqdm as notebook_tqdm\n"
     ]
    }
   ],
   "source": [
    "%load_ext autoreload\n",
    "%autoreload 2\n",
    "\n",
    "import torch\n",
    "from tqdm import tqdm\n",
    "import torchvision.transforms as T\n",
    "from pixel_level_contrastive_learning import PixelCL\n",
    "from karies.models import MaskRCNN\n",
    "from pixpro_utils import MaskRCNNModelWrapper\n",
    "import sys\n",
    "\n",
    "sys.path.append(\"/cluster/group/karies_2022/Simone/karies/karies-models/\")\n",
    "from configs.MaskRCNN.default_model_setting_config import model_config as config"
   ]
  },
  {
   "cell_type": "code",
   "execution_count": 2,
   "metadata": {},
   "outputs": [],
   "source": [
    "config[\"name\"] = \"PIXPRO-TEST-DELETE\"\n",
    "config[\"batch_size\"] = 2\n",
    "config[\"device\"] = \"cuda\"\n",
    "config[\"dataset\"] = \"dataset_test\"\n",
    "config[\"augmentations\"] = []\n",
    "config[\"fix_random_seed\"] = 42\n",
    "config[\"image_shape\"] = [768, 1024]\n",
    "\n",
    "m = MaskRCNN(config, load=False)\n",
    "\n",
    "wrap = MaskRCNNModelWrapper(\n",
    "    m.model.transform,\n",
    "    m.model.backbone,\n",
    ")"
   ]
  },
  {
   "cell_type": "code",
   "execution_count": 5,
   "metadata": {},
   "outputs": [],
   "source": [
    "from pixpro_utils import PretrainingDataset\n",
    "from karies.config import DatasetPartition\n",
    "\n",
    "dl = PretrainingDataset(\n",
    "    config,\n",
    "    DatasetPartition.train,\n",
    "    crop_size=112\n",
    ").get_data_loaders()\n",
    "\n",
    "x = next(iter(dl))"
   ]
  },
  {
   "cell_type": "code",
   "execution_count": null,
   "metadata": {},
   "outputs": [],
   "source": [
    "learner = PixelCL(\n",
    "    wrap,\n",
    "    image_size = (500, 500),\n",
    "    hidden_layer_pixel = 'backbone.body.layer4',  # leads to output of 8x8 feature map for pixel-level learning\n",
    "    hidden_layer_instance = -1,     # leads to output for instance-level learning\n",
    "    projection_size = 256,          # size of projection output, 256 was used in the paper\n",
    "    projection_hidden_size = 2048,  # size of projection hidden dimension, paper used 2048\n",
    "    moving_average_decay = 0.99,    # exponential moving average decay of target encoder\n",
    "    ppm_num_layers = 1,             # number of layers for transform function in the pixel propagation module, 1 was optimal\n",
    "    ppm_gamma = 2,                  # sharpness of the similarity in the pixel propagation module, already at optimal value of 2\n",
    "    distance_thres = 0.7,           # ideal value is 0.7, as indicated in the paper, which makes the assumption of each feature map's pixel diagonal distance to be 1 (still unclear)\n",
    "    similarity_temperature = 0.3,   # temperature for the cosine similarity for the pixel contrastive loss\n",
    "    alpha = 1.,                      # weight of the pixel propagation loss (pixpro) vs pixel CL loss\n",
    "    use_pixpro = True,               # do pixel pro instead of pixel contrast loss, defaults to pixpro, since it is the best one\n",
    "    cutout_ratio_range = (0.6, 0.8)  # a random ratio is selected from this range for the random cutout\n",
    ").cuda()"
   ]
  },
  {
   "cell_type": "code",
   "execution_count": null,
   "metadata": {},
   "outputs": [],
   "source": [
    "from torch.cuda.amp import GradScaler\n",
    "\n",
    "mixed_precision = True\n",
    "\n",
    "scaler = GradScaler(enabled=mixed_precision)\n",
    "opt = torch.optim.Adam(learner.parameters(), lr=1e-4)\n",
    "\n",
    "torch.cuda.empty_cache()\n",
    "\n",
    "def sample_batch_images():\n",
    "    return torch.randn(2, 3, 500, 500).cuda()\n",
    "\n",
    "for _ in tqdm(range(50)):\n",
    "    images = sample_batch_images()\n",
    "    with torch.autocast(device_type=\"cuda\", dtype=torch.float16, enabled=mixed_precision):\n",
    "        loss = learner(images) # if positive pixel pairs is equal to zero, the loss is equal to the instance level loss\n",
    "\n",
    "    opt.zero_grad()\n",
    "    scaler.scale(loss).backward()\n",
    "    scaler.step(opt)\n",
    "    scaler.update()\n",
    "    learner.update_moving_average() # update moving average of target encoder\n"
   ]
  }
 ],
 "metadata": {
  "kernelspec": {
   "display_name": "karies_models",
   "language": "python",
   "name": "python3"
  },
  "language_info": {
   "codemirror_mode": {
    "name": "ipython",
    "version": 3
   },
   "file_extension": ".py",
   "mimetype": "text/x-python",
   "name": "python",
   "nbconvert_exporter": "python",
   "pygments_lexer": "ipython3",
   "version": "3.10.13"
  }
 },
 "nbformat": 4,
 "nbformat_minor": 2
}
