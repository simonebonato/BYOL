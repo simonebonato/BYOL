{
 "cells": [
  {
   "cell_type": "code",
   "execution_count": 1,
   "metadata": {},
   "outputs": [
    {
     "name": "stderr",
     "output_type": "stream",
     "text": [
      "/home2/simone/.conda/envs/karies_models/lib/python3.10/site-packages/tqdm/auto.py:21: TqdmWarning: IProgress not found. Please update jupyter and ipywidgets. See https://ipywidgets.readthedocs.io/en/stable/user_install.html\n",
      "  from .autonotebook import tqdm as notebook_tqdm\n"
     ]
    }
   ],
   "source": [
    "%load_ext autoreload\n",
    "%autoreload 2\n",
    "\n",
    "import torch\n",
    "from tqdm import tqdm\n",
    "from pixel_level_contrastive_learning import PixelCL\n",
    "from karies.models import MaskRCNN\n",
    "from pixpro_utils import MaskRCNNModelWrapper\n",
    "from torch.cuda.amp import GradScaler, autocast\n",
    "import sys\n",
    "\n",
    "sys.path.append(\"/cluster/group/karies_2022/Simone/karies/karies-models/\")\n",
    "from configs.MaskRCNN.default_model_setting_config import model_config as config"
   ]
  },
  {
   "cell_type": "code",
   "execution_count": 2,
   "metadata": {},
   "outputs": [],
   "source": [
    "config[\"name\"] = \"PIXPRO-TEST-DELETE\"\n",
    "config[\"batch_size\"] = 10\n",
    "config[\"device\"] = \"cuda\"\n",
    "config[\"dataset\"] = \"dataset_4k\"\n",
    "config[\"augmentations\"] = []\n",
    "config[\"fix_random_seed\"] = 42\n",
    "config[\"image_shape\"] = [768, 1024]\n",
    "\n",
    "crop_size = 56\n",
    "mixed_precision = True\n",
    "\n",
    "m = MaskRCNN(config, load=False)\n",
    "\n",
    "wrap = MaskRCNNModelWrapper(\n",
    "    m.model.transform,\n",
    "    m.model.backbone,\n",
    ")"
   ]
  },
  {
   "cell_type": "code",
   "execution_count": 3,
   "metadata": {},
   "outputs": [],
   "source": [
    "from pixpro_utils import PretrainingDataset\n",
    "from karies.config import DatasetPartition\n",
    "\n",
    "dl = PretrainingDataset(\n",
    "    config,\n",
    "    DatasetPartition.train,\n",
    "    crop_size=crop_size\n",
    ").get_data_loaders()\n",
    "\n",
    "x = next(iter(dl))"
   ]
  },
  {
   "cell_type": "code",
   "execution_count": 4,
   "metadata": {},
   "outputs": [
    {
     "name": "stderr",
     "output_type": "stream",
     "text": [
      "/home2/simone/.conda/envs/karies_models/lib/python3.10/site-packages/torch/functional.py:504: UserWarning: torch.meshgrid: in an upcoming release, it will be required to pass the indexing argument. (Triggered internally at ../aten/src/ATen/native/TensorShape.cpp:3483.)\n",
      "  return _VF.meshgrid(tensors, **kwargs)  # type: ignore[attr-defined]\n"
     ]
    }
   ],
   "source": [
    "learner = PixelCL(\n",
    "    wrap,\n",
    "    image_size = (crop_size, crop_size),\n",
    "    hidden_layer_pixel = 'backbone.body.layer4',  # leads to output of 8x8 feature map for pixel-level learning\n",
    "    hidden_layer_instance = -1,     # leads to output for instance-level learning\n",
    "    projection_size = 256,          # size of projection output, 256 was used in the paper\n",
    "    projection_hidden_size = 2048,  # size of projection hidden dimension, paper used 2048\n",
    "    moving_average_decay = 0.99,    # exponential moving average decay of target encoder\n",
    "    ppm_num_layers = 1,             # number of layers for transform function in the pixel propagation module, 1 was optimal\n",
    "    ppm_gamma = 2,                  # sharpness of the similarity in the pixel propagation module, already at optimal value of 2\n",
    "    distance_thres = 0.7,           # ideal value is 0.7, as indicated in the paper, which makes the assumption of each feature map's pixel diagonal distance to be 1 (still unclear)\n",
    "    similarity_temperature = 0.3,   # temperature for the cosine similarity for the pixel contrastive loss\n",
    "    alpha = 1.,                      # weight of the pixel propagation loss (pixpro) vs pixel CL loss\n",
    "    use_pixpro = True,               # do pixel pro instead of pixel contrast loss, defaults to pixpro, since it is the best one\n",
    "    cutout_ratio_range = (0.6, 0.8)  # a random ratio is selected from this range for the random cutout\n",
    ").cuda()"
   ]
  },
  {
   "cell_type": "code",
   "execution_count": 5,
   "metadata": {},
   "outputs": [
    {
     "name": "stderr",
     "output_type": "stream",
     "text": [
      "  0%|          | 0/50 [00:00<?, ?it/s]\n"
     ]
    },
    {
     "ename": "OutOfMemoryError",
     "evalue": "CUDA out of memory. Tried to allocate 3.73 GiB (GPU 0; 10.75 GiB total capacity; 6.16 GiB already allocated; 2.96 GiB free; 6.28 GiB reserved in total by PyTorch) If reserved memory is >> allocated memory try setting max_split_size_mb to avoid fragmentation.  See documentation for Memory Management and PYTORCH_CUDA_ALLOC_CONF",
     "output_type": "error",
     "traceback": [
      "\u001b[0;31m---------------------------------------------------------------------------\u001b[0m",
      "\u001b[0;31mOutOfMemoryError\u001b[0m                          Traceback (most recent call last)",
      "Cell \u001b[0;32mIn[5], line 12\u001b[0m\n\u001b[1;32m     10\u001b[0m images \u001b[38;5;241m=\u001b[39m sample_batch_images()\n\u001b[1;32m     11\u001b[0m \u001b[38;5;28;01mwith\u001b[39;00m torch\u001b[38;5;241m.\u001b[39mautocast(device_type\u001b[38;5;241m=\u001b[39m\u001b[38;5;124m\"\u001b[39m\u001b[38;5;124mcuda\u001b[39m\u001b[38;5;124m\"\u001b[39m, dtype\u001b[38;5;241m=\u001b[39mtorch\u001b[38;5;241m.\u001b[39mfloat16, enabled\u001b[38;5;241m=\u001b[39mmixed_precision):\n\u001b[0;32m---> 12\u001b[0m     loss \u001b[38;5;241m=\u001b[39m \u001b[43mlearner\u001b[49m\u001b[43m(\u001b[49m\u001b[43mimages\u001b[49m\u001b[43m)\u001b[49m \u001b[38;5;66;03m# if positive pixel pairs is equal to zero, the loss is equal to the instance level loss\u001b[39;00m\n\u001b[1;32m     14\u001b[0m opt\u001b[38;5;241m.\u001b[39mzero_grad()\n\u001b[1;32m     15\u001b[0m scaler\u001b[38;5;241m.\u001b[39mscale(loss)\u001b[38;5;241m.\u001b[39mbackward()\n",
      "File \u001b[0;32m~/.conda/envs/karies_models/lib/python3.10/site-packages/torch/nn/modules/module.py:1501\u001b[0m, in \u001b[0;36mModule._call_impl\u001b[0;34m(self, *args, **kwargs)\u001b[0m\n\u001b[1;32m   1496\u001b[0m \u001b[38;5;66;03m# If we don't have any hooks, we want to skip the rest of the logic in\u001b[39;00m\n\u001b[1;32m   1497\u001b[0m \u001b[38;5;66;03m# this function, and just call forward.\u001b[39;00m\n\u001b[1;32m   1498\u001b[0m \u001b[38;5;28;01mif\u001b[39;00m \u001b[38;5;129;01mnot\u001b[39;00m (\u001b[38;5;28mself\u001b[39m\u001b[38;5;241m.\u001b[39m_backward_hooks \u001b[38;5;129;01mor\u001b[39;00m \u001b[38;5;28mself\u001b[39m\u001b[38;5;241m.\u001b[39m_backward_pre_hooks \u001b[38;5;129;01mor\u001b[39;00m \u001b[38;5;28mself\u001b[39m\u001b[38;5;241m.\u001b[39m_forward_hooks \u001b[38;5;129;01mor\u001b[39;00m \u001b[38;5;28mself\u001b[39m\u001b[38;5;241m.\u001b[39m_forward_pre_hooks\n\u001b[1;32m   1499\u001b[0m         \u001b[38;5;129;01mor\u001b[39;00m _global_backward_pre_hooks \u001b[38;5;129;01mor\u001b[39;00m _global_backward_hooks\n\u001b[1;32m   1500\u001b[0m         \u001b[38;5;129;01mor\u001b[39;00m _global_forward_hooks \u001b[38;5;129;01mor\u001b[39;00m _global_forward_pre_hooks):\n\u001b[0;32m-> 1501\u001b[0m     \u001b[38;5;28;01mreturn\u001b[39;00m \u001b[43mforward_call\u001b[49m\u001b[43m(\u001b[49m\u001b[38;5;241;43m*\u001b[39;49m\u001b[43margs\u001b[49m\u001b[43m,\u001b[49m\u001b[43m \u001b[49m\u001b[38;5;241;43m*\u001b[39;49m\u001b[38;5;241;43m*\u001b[39;49m\u001b[43mkwargs\u001b[49m\u001b[43m)\u001b[49m\n\u001b[1;32m   1502\u001b[0m \u001b[38;5;66;03m# Do not call functions when jit is used\u001b[39;00m\n\u001b[1;32m   1503\u001b[0m full_backward_hooks, non_full_backward_hooks \u001b[38;5;241m=\u001b[39m [], []\n",
      "File \u001b[0;32m~/.conda/envs/karies_models/lib/python3.10/site-packages/pixel_level_contrastive_learning/pixel_level_contrastive_learning.py:453\u001b[0m, in \u001b[0;36mPixelCL.forward\u001b[0;34m(self, x, return_positive_pairs)\u001b[0m\n\u001b[1;32m    449\u001b[0m     pix_loss \u001b[38;5;241m=\u001b[39m (loss_pix_one_two \u001b[38;5;241m+\u001b[39m loss_pix_two_one) \u001b[38;5;241m/\u001b[39m \u001b[38;5;241m2\u001b[39m\n\u001b[1;32m    450\u001b[0m \u001b[38;5;28;01melse\u001b[39;00m:\n\u001b[1;32m    451\u001b[0m     \u001b[38;5;66;03m# calculate pix pro loss\u001b[39;00m\n\u001b[0;32m--> 453\u001b[0m     propagated_pixels_one \u001b[38;5;241m=\u001b[39m \u001b[38;5;28;43mself\u001b[39;49m\u001b[38;5;241;43m.\u001b[39;49m\u001b[43mpropagate_pixels\u001b[49m\u001b[43m(\u001b[49m\u001b[43mproj_pixel_one\u001b[49m\u001b[43m)\u001b[49m\n\u001b[1;32m    454\u001b[0m     propagated_pixels_two \u001b[38;5;241m=\u001b[39m \u001b[38;5;28mself\u001b[39m\u001b[38;5;241m.\u001b[39mpropagate_pixels(proj_pixel_two)\n\u001b[1;32m    456\u001b[0m     propagated_pixels_one, propagated_pixels_two \u001b[38;5;241m=\u001b[39m \u001b[38;5;28mlist\u001b[39m(\u001b[38;5;28mmap\u001b[39m(flatten, (propagated_pixels_one, propagated_pixels_two)))\n",
      "File \u001b[0;32m~/.conda/envs/karies_models/lib/python3.10/site-packages/torch/nn/modules/module.py:1501\u001b[0m, in \u001b[0;36mModule._call_impl\u001b[0;34m(self, *args, **kwargs)\u001b[0m\n\u001b[1;32m   1496\u001b[0m \u001b[38;5;66;03m# If we don't have any hooks, we want to skip the rest of the logic in\u001b[39;00m\n\u001b[1;32m   1497\u001b[0m \u001b[38;5;66;03m# this function, and just call forward.\u001b[39;00m\n\u001b[1;32m   1498\u001b[0m \u001b[38;5;28;01mif\u001b[39;00m \u001b[38;5;129;01mnot\u001b[39;00m (\u001b[38;5;28mself\u001b[39m\u001b[38;5;241m.\u001b[39m_backward_hooks \u001b[38;5;129;01mor\u001b[39;00m \u001b[38;5;28mself\u001b[39m\u001b[38;5;241m.\u001b[39m_backward_pre_hooks \u001b[38;5;129;01mor\u001b[39;00m \u001b[38;5;28mself\u001b[39m\u001b[38;5;241m.\u001b[39m_forward_hooks \u001b[38;5;129;01mor\u001b[39;00m \u001b[38;5;28mself\u001b[39m\u001b[38;5;241m.\u001b[39m_forward_pre_hooks\n\u001b[1;32m   1499\u001b[0m         \u001b[38;5;129;01mor\u001b[39;00m _global_backward_pre_hooks \u001b[38;5;129;01mor\u001b[39;00m _global_backward_hooks\n\u001b[1;32m   1500\u001b[0m         \u001b[38;5;129;01mor\u001b[39;00m _global_forward_hooks \u001b[38;5;129;01mor\u001b[39;00m _global_forward_pre_hooks):\n\u001b[0;32m-> 1501\u001b[0m     \u001b[38;5;28;01mreturn\u001b[39;00m \u001b[43mforward_call\u001b[49m\u001b[43m(\u001b[49m\u001b[38;5;241;43m*\u001b[39;49m\u001b[43margs\u001b[49m\u001b[43m,\u001b[49m\u001b[43m \u001b[49m\u001b[38;5;241;43m*\u001b[39;49m\u001b[38;5;241;43m*\u001b[39;49m\u001b[43mkwargs\u001b[49m\u001b[43m)\u001b[49m\n\u001b[1;32m   1502\u001b[0m \u001b[38;5;66;03m# Do not call functions when jit is used\u001b[39;00m\n\u001b[1;32m   1503\u001b[0m full_backward_hooks, non_full_backward_hooks \u001b[38;5;241m=\u001b[39m [], []\n",
      "File \u001b[0;32m~/.conda/envs/karies_models/lib/python3.10/site-packages/pixel_level_contrastive_learning/pixel_level_contrastive_learning.py:156\u001b[0m, in \u001b[0;36mPPM.forward\u001b[0;34m(self, x)\u001b[0m\n\u001b[1;32m    154\u001b[0m xi \u001b[38;5;241m=\u001b[39m x[:, :, :, :, \u001b[38;5;28;01mNone\u001b[39;00m, \u001b[38;5;28;01mNone\u001b[39;00m]\n\u001b[1;32m    155\u001b[0m xj \u001b[38;5;241m=\u001b[39m x[:, :, \u001b[38;5;28;01mNone\u001b[39;00m, \u001b[38;5;28;01mNone\u001b[39;00m, :, :]\n\u001b[0;32m--> 156\u001b[0m similarity \u001b[38;5;241m=\u001b[39m F\u001b[38;5;241m.\u001b[39mrelu(\u001b[43mF\u001b[49m\u001b[38;5;241;43m.\u001b[39;49m\u001b[43mcosine_similarity\u001b[49m\u001b[43m(\u001b[49m\u001b[43mxi\u001b[49m\u001b[43m,\u001b[49m\u001b[43m \u001b[49m\u001b[43mxj\u001b[49m\u001b[43m,\u001b[49m\u001b[43m \u001b[49m\u001b[43mdim\u001b[49m\u001b[43m \u001b[49m\u001b[38;5;241;43m=\u001b[39;49m\u001b[43m \u001b[49m\u001b[38;5;241;43m1\u001b[39;49m\u001b[43m)\u001b[49m) \u001b[38;5;241m*\u001b[39m\u001b[38;5;241m*\u001b[39m \u001b[38;5;28mself\u001b[39m\u001b[38;5;241m.\u001b[39mgamma\n\u001b[1;32m    158\u001b[0m transform_out \u001b[38;5;241m=\u001b[39m \u001b[38;5;28mself\u001b[39m\u001b[38;5;241m.\u001b[39mtransform_net(x)\n\u001b[1;32m    159\u001b[0m out \u001b[38;5;241m=\u001b[39m einsum(\u001b[38;5;124m'\u001b[39m\u001b[38;5;124mb x y h w, b c h w -> b c x y\u001b[39m\u001b[38;5;124m'\u001b[39m, similarity, transform_out)\n",
      "\u001b[0;31mOutOfMemoryError\u001b[0m: CUDA out of memory. Tried to allocate 3.73 GiB (GPU 0; 10.75 GiB total capacity; 6.16 GiB already allocated; 2.96 GiB free; 6.28 GiB reserved in total by PyTorch) If reserved memory is >> allocated memory try setting max_split_size_mb to avoid fragmentation.  See documentation for Memory Management and PYTORCH_CUDA_ALLOC_CONF"
     ]
    }
   ],
   "source": [
    "scaler = GradScaler(enabled=mixed_precision)\n",
    "opt = torch.optim.Adam(learner.parameters(), lr=1e-4)\n",
    "\n",
    "torch.cuda.empty_cache()\n",
    "\n",
    "def sample_batch_images():\n",
    "    return torch.randn(10, 3, crop_size, crop_size).cuda()\n",
    "\n",
    "for _ in tqdm(range(50)):\n",
    "    images = sample_batch_images()\n",
    "    with torch.autocast(device_type=\"cuda\", dtype=torch.float16, enabled=mixed_precision):\n",
    "        loss = learner(images) # if positive pixel pairs is equal to zero, the loss is equal to the instance level loss\n",
    "\n",
    "    opt.zero_grad()\n",
    "    scaler.scale(loss).backward()\n",
    "    scaler.step(opt)\n",
    "    scaler.update()\n",
    "    learner.update_moving_average() # update moving average of target encoder\n"
   ]
  }
 ],
 "metadata": {
  "kernelspec": {
   "display_name": "karies_models",
   "language": "python",
   "name": "python3"
  },
  "language_info": {
   "codemirror_mode": {
    "name": "ipython",
    "version": 3
   },
   "file_extension": ".py",
   "mimetype": "text/x-python",
   "name": "python",
   "nbconvert_exporter": "python",
   "pygments_lexer": "ipython3",
   "version": "3.10.13"
  }
 },
 "nbformat": 4,
 "nbformat_minor": 2
}
