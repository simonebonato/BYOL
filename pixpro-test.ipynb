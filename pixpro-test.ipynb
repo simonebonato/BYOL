{
 "cells": [
  {
   "cell_type": "code",
   "execution_count": null,
   "metadata": {},
   "outputs": [],
   "source": [
    "%load_ext autoreload\n",
    "%autoreload 2\n",
    "\n",
    "import torch\n",
    "from tqdm import tqdm\n",
    "\n",
    "# from byol_pretrain.utils import get_loaders_STL10\n",
    "from torchvision.models import resnet50\n",
    "\n",
    "import torchvision.transforms as T\n",
    "from pixel_level_contrastive_learning import PixelCL"
   ]
  },
  {
   "cell_type": "markdown",
   "metadata": {},
   "source": [
    "# Test with MaskRCNN and STL10 dataset"
   ]
  },
  {
   "cell_type": "code",
   "execution_count": null,
   "metadata": {},
   "outputs": [],
   "source": [
    "from karies.models import MaskRCNN\n",
    "from karies.config import MaskRCNNConfig, ModelConfig, Task, ModelTypes\n",
    "from byol_pretrain.BYOL_MaskRCNN import BYOL_MaskRCNN_Class, MaskRCNNModelWrapper\n",
    "\n",
    "base_config: ModelConfig = {\n",
    "    \"name\": \"BYOL-TEST-DELETE\",\n",
    "    \"task\": Task.training,\n",
    "    \"optimizer\": \"adam\",\n",
    "    \"learning_rate\": 0.0001,\n",
    "    \"weight_decay\": 0.0001,\n",
    "    \"batch_size\": 8,\n",
    "    \"num_workers\": 0,\n",
    "    \"device\": \"cuda\",\n",
    "    \"path_model\": \"/cluster/group/karies_2022/Simone/karies/karies-models/AAA_BYOL_test/BYOL/saved_pretrained_models/maskrcnn-weekend-test-batch-6/\",\n",
    "    \"load_model_name\": \"pretrain_80_epochs.pth\",\n",
    "    \"num_epochs\": 100,\n",
    "    \"image_shape\": [768, 768],\n",
    "    \"dataset\": \"dataset_4k\",\n",
    "    \"labels_json\": \"labels_caries.json\",\n",
    "    \"histogram_eq\": False,\n",
    "    \"visualization_frequency\": 1,\n",
    "    \"augmentations\": [],\n",
    "    'fix_random_seed':42\n",
    "}\n",
    "config: MaskRCNNConfig = {\n",
    "    **base_config,\n",
    "    \"model_type\": ModelTypes.MaskRCNN,\n",
    "    \"classes\": 5,\n",
    "    \"iou_threshold\": 0.1,\n",
    "    \"confidence_threshold\": 0.1,\n",
    "    \"model_args\": {},\n",
    "    \"loss_weights\": [1.0, 1.0, 1.0, 1.0, 1.0],\n",
    "}\n",
    "\n",
    "m = MaskRCNN(config, load=False)\n",
    "\n",
    "wrap = MaskRCNNModelWrapper(\n",
    "    m.model.transform,\n",
    "    m.model.backbone,\n",
    ")"
   ]
  },
  {
   "cell_type": "code",
   "execution_count": null,
   "metadata": {},
   "outputs": [],
   "source": [
    "l,_ = m.get_data_loaders()"
   ]
  },
  {
   "cell_type": "code",
   "execution_count": null,
   "metadata": {},
   "outputs": [],
   "source": [
    "len(l.dataset)"
   ]
  },
  {
   "cell_type": "code",
   "execution_count": null,
   "metadata": {},
   "outputs": [],
   "source": [
    "learner = PixelCL(\n",
    "    wrap,\n",
    "    image_size = (768, 1024),\n",
    "    hidden_layer_pixel = 'backbone.body.layer4',  # leads to output of 8x8 feature map for pixel-level learning\n",
    "    hidden_layer_instance = -1,     # leads to output for instance-level learning\n",
    "    projection_size = 256,          # size of projection output, 256 was used in the paper\n",
    "    projection_hidden_size = 2048,  # size of projection hidden dimension, paper used 2048\n",
    "    moving_average_decay = 0.99,    # exponential moving average decay of target encoder\n",
    "    ppm_num_layers = 1,             # number of layers for transform function in the pixel propagation module, 1 was optimal\n",
    "    ppm_gamma = 2,                  # sharpness of the similarity in the pixel propagation module, already at optimal value of 2\n",
    "    distance_thres = 0.7,           # ideal value is 0.7, as indicated in the paper, which makes the assumption of each feature map's pixel diagonal distance to be 1 (still unclear)\n",
    "    similarity_temperature = 0.3,   # temperature for the cosine similarity for the pixel contrastive loss\n",
    "    alpha = 1.,                      # weight of the pixel propagation loss (pixpro) vs pixel CL loss\n",
    "    use_pixpro = True,               # do pixel pro instead of pixel contrast loss, defaults to pixpro, since it is the best one\n",
    "    cutout_ratio_range = (0.6, 0.8)  # a random ratio is selected from this range for the random cutout\n",
    ").cuda()"
   ]
  },
  {
   "cell_type": "code",
   "execution_count": null,
   "metadata": {},
   "outputs": [],
   "source": [
    "from torch.cuda.amp import GradScaler\n",
    "\n",
    "scaler = GradScaler()\n",
    "opt = torch.optim.Adam(learner.parameters(), lr=1e-4)\n",
    "\n",
    "torch.cuda.empty_cache()\n",
    "\n",
    "def sample_batch_images():\n",
    "    return torch.randn(2, 3, 768, 768).cuda()\n",
    "\n",
    "for _ in tqdm(range(100000)):\n",
    "    images = sample_batch_images()\n",
    "    with torch.autocast(device_type=\"cuda\", dtype=torch.float16):\n",
    "        loss = learner(images) # if positive pixel pairs is equal to zero, the loss is equal to the instance level loss\n",
    "\n",
    "    opt.zero_grad()\n",
    "    scaler.scale(loss).backward()\n",
    "    scaler.step(opt)\n",
    "    scaler.update()\n",
    "    learner.update_moving_average() # update moving average of target encoder\n"
   ]
  },
  {
   "cell_type": "code",
   "execution_count": null,
   "metadata": {},
   "outputs": [],
   "source": []
  },
  {
   "cell_type": "code",
   "execution_count": null,
   "metadata": {},
   "outputs": [],
   "source": [
    "m.model.state_dict()"
   ]
  }
 ],
 "metadata": {
  "kernelspec": {
   "display_name": "karies_models",
   "language": "python",
   "name": "python3"
  },
  "language_info": {
   "codemirror_mode": {
    "name": "ipython",
    "version": 3
   },
   "file_extension": ".py",
   "mimetype": "text/x-python",
   "name": "python",
   "nbconvert_exporter": "python",
   "pygments_lexer": "ipython3",
   "version": "3.10.13"
  }
 },
 "nbformat": 4,
 "nbformat_minor": 2
}
